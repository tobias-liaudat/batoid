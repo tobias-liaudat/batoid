{
 "cells": [
  {
   "cell_type": "code",
   "execution_count": null,
   "metadata": {
    "ExecuteTime": {
     "end_time": "2020-01-30T00:53:26.511401Z",
     "start_time": "2020-01-30T00:53:25.980074Z"
    }
   },
   "outputs": [],
   "source": [
    "import batoid\n",
    "import numpy as np\n",
    "import ipyvolume as ipv\n",
    "import matplotlib.pyplot as plt"
   ]
  },
  {
   "cell_type": "code",
   "execution_count": null,
   "metadata": {
    "ExecuteTime": {
     "end_time": "2020-01-30T00:53:26.564593Z",
     "start_time": "2020-01-30T00:53:26.512889Z"
    }
   },
   "outputs": [],
   "source": [
    "fiducial_telescope = batoid.Optic.fromYaml(\"LSST_r.yaml\")"
   ]
  },
  {
   "cell_type": "code",
   "execution_count": null,
   "metadata": {
    "ExecuteTime": {
     "end_time": "2020-01-30T00:53:26.588138Z",
     "start_time": "2020-01-30T00:53:26.566431Z"
    }
   },
   "outputs": [],
   "source": [
    "def xfan(telescope, theta_x, theta_y, nx):\n",
    "    return batoid.RayVector.asGrid(telescope, wavelength=625e-9, theta_x=theta_x, theta_y=theta_y, nx=nx, ny=1)\n",
    "def yfan(telescope, theta_x, theta_y, ny):\n",
    "    return batoid.RayVector.asGrid(telescope, wavelength=625e-9, theta_x=theta_x, theta_y=theta_y, ny=ny, nx=1)\n",
    "def xyfan(telescope, theta_x, theta_y, n):\n",
    "    rays1 = xfan(telescope, theta_x, theta_y, n)\n",
    "    rays2 = yfan(telescope, theta_x, theta_y, n)\n",
    "    return batoid.concatenateRayVectors([rays1, rays2])"
   ]
  },
  {
   "cell_type": "code",
   "execution_count": null,
   "metadata": {
    "ExecuteTime": {
     "end_time": "2020-01-30T00:53:26.611145Z",
     "start_time": "2020-01-30T00:53:26.589704Z"
    }
   },
   "outputs": [],
   "source": [
    "def plotlineipv(ipv, ctf, x, y, z):\n",
    "    x, y, z = [np.array(a) for a in np.broadcast_arrays(x, y, z)]\n",
    "    ctf.applyForward(x, y, z)\n",
    "    ipv.plot(x, y, z, c='r')"
   ]
  },
  {
   "cell_type": "code",
   "execution_count": null,
   "metadata": {
    "ExecuteTime": {
     "end_time": "2020-01-30T00:53:26.637603Z",
     "start_time": "2020-01-30T00:53:26.612469Z"
    }
   },
   "outputs": [],
   "source": [
    "def draw3dFP(ipv, coordSys):\n",
    "    # Just has to be approximately right...\n",
    "    raftsize = 0.31527*2/5\n",
    "    ctf = batoid.CoordTransform(coordSys, batoid.globalCoordSys)\n",
    "    \n",
    "    # top hline\n",
    "    plotlineipv(ipv, ctf, np.array([-1.5, 1.5])*raftsize, 2.5*raftsize, 0.)\n",
    "    # middle hlines\n",
    "    plotlineipv(ipv, ctf, np.array([-2.5, 2.5])*raftsize, 1.5*raftsize, 0.)\n",
    "    plotlineipv(ipv, ctf, np.array([-2.5, 2.5])*raftsize, 0.5*raftsize, 0.)\n",
    "    plotlineipv(ipv, ctf, np.array([-2.5, 2.5])*raftsize, -0.5*raftsize, 0.)\n",
    "    plotlineipv(ipv, ctf, np.array([-2.5, 2.5])*raftsize, -1.5*raftsize, 0.)\n",
    "    # bottom hline\n",
    "    plotlineipv(ipv, ctf, np.array([-1.5, 1.5])*raftsize, -2.5*raftsize, 0.)\n",
    "    # left vline\n",
    "    plotlineipv(ipv, ctf, -2.5*raftsize, np.array([-1.5, 1.5])*raftsize, 0.)\n",
    "    # middle vlines\n",
    "    plotlineipv(ipv, ctf, -1.5*raftsize, np.array([-2.5, 2.5])*raftsize, 0.)\n",
    "    plotlineipv(ipv, ctf, -0.5*raftsize, np.array([-2.5, 2.5])*raftsize, 0.)\n",
    "    plotlineipv(ipv, ctf, 0.5*raftsize, np.array([-2.5, 2.5])*raftsize, 0.)\n",
    "    plotlineipv(ipv, ctf, 1.5*raftsize, np.array([-2.5, 2.5])*raftsize, 0.)\n",
    "    # right vline\n",
    "    plotlineipv(ipv, ctf, 2.5*raftsize, np.array([-1.5, 1.5])*raftsize, 0.)"
   ]
  },
  {
   "cell_type": "code",
   "execution_count": null,
   "metadata": {
    "ExecuteTime": {
     "end_time": "2020-01-30T00:53:26.659103Z",
     "start_time": "2020-01-30T00:53:26.638814Z"
    }
   },
   "outputs": [],
   "source": [
    "def plotlineax(ax, ctf, x, y):\n",
    "    x, y, z = [np.array(a) for a in np.broadcast_arrays(x, y, 0.)]\n",
    "    ctf.applyForward(x, y, z)\n",
    "    ax.plot(x, y, c='r')"
   ]
  },
  {
   "cell_type": "code",
   "execution_count": null,
   "metadata": {
    "ExecuteTime": {
     "end_time": "2020-01-30T00:53:26.684018Z",
     "start_time": "2020-01-30T00:53:26.660249Z"
    }
   },
   "outputs": [],
   "source": [
    "def draw2dFP(ax, coordSys):\n",
    "    # Just has to be approximately right...\n",
    "    raftsize = 0.31527*2/5\n",
    "    ctf = batoid.CoordTransform(coordSys, batoid.globalCoordSys)\n",
    "    # top hline\n",
    "    plotlineax(ax, ctf, np.array([-1.5, 1.5])*raftsize, 2.5*raftsize)\n",
    "    # middle hlines\n",
    "    plotlineax(ax, ctf, np.array([-2.5, 2.5])*raftsize, 1.5*raftsize)\n",
    "    plotlineax(ax, ctf, np.array([-2.5, 2.5])*raftsize, 0.5*raftsize)\n",
    "    plotlineax(ax, ctf, np.array([-2.5, 2.5])*raftsize, -0.5*raftsize)\n",
    "    plotlineax(ax, ctf, np.array([-2.5, 2.5])*raftsize, -1.5*raftsize)\n",
    "    # bottom hline\n",
    "    plotlineax(ax, ctf, np.array([-1.5, 1.5])*raftsize, -2.5*raftsize)\n",
    "    # left vline\n",
    "    plotlineax(ax, ctf, -2.5*raftsize, np.array([-1.5, 1.5])*raftsize)\n",
    "    # middle vlines\n",
    "    plotlineax(ax, ctf, -1.5*raftsize, np.array([-2.5, 2.5])*raftsize)\n",
    "    plotlineax(ax, ctf, -0.5*raftsize, np.array([-2.5, 2.5])*raftsize)\n",
    "    plotlineax(ax, ctf, 0.5*raftsize, np.array([-2.5, 2.5])*raftsize)\n",
    "    plotlineax(ax, ctf, 1.5*raftsize, np.array([-2.5, 2.5])*raftsize)\n",
    "    # right vline\n",
    "    plotlineax(ax, ctf, 2.5*raftsize, np.array([-1.5, 1.5])*raftsize)    "
   ]
  },
  {
   "cell_type": "code",
   "execution_count": null,
   "metadata": {
    "ExecuteTime": {
     "end_time": "2020-01-30T00:53:26.718421Z",
     "start_time": "2020-01-30T00:53:26.685568Z"
    }
   },
   "outputs": [],
   "source": [
    "def doit(theta_x, theta_y, rot=0.0):\n",
    "    telescope = fiducial_telescope.withLocallyRotatedOptic(\"LSSTCamera\", batoid.RotZ(np.deg2rad(rot)))\n",
    "    rays = xyfan(telescope, np.deg2rad(theta_x), np.deg2rad(theta_y), 30)\n",
    "#     rays = xfan(telescope, np.deg2rad(theta_x), np.deg2rad(theta_y), 30)\n",
    "    traceFull = telescope.traceFull(rays)\n",
    "    zernike = batoid.analysis.zernike(\n",
    "        telescope, np.deg2rad(theta_x), np.deg2rad(theta_y), \n",
    "        625e-9, jmax=6, nx=32\n",
    "    )\n",
    "    print(zernike[-2:])\n",
    "    wavefront = batoid.analysis.wavefront(\n",
    "        telescope, np.deg2rad(theta_x), np.deg2rad(theta_y),\n",
    "        625e-9, nx=256\n",
    "    )\n",
    "    spotx, spoty = batoid.analysis.spot(\n",
    "        telescope, np.deg2rad(theta_x), np.deg2rad(theta_y),\n",
    "        625e-9, nx=256\n",
    "    )\n",
    "    ipv.figure(width=400, height=350)\n",
    "    telescope.draw3d(ipv, color='black')\n",
    "    batoid.drawTrace3d(ipv, traceFull, color='blue')\n",
    "    ipv.xlim(-5, 5)\n",
    "    ipv.ylim(-5, 5)\n",
    "    ipv.zlim(-2, 8)\n",
    "    draw3dFP(ipv, telescope['Detector'].coordSys)\n",
    "    ipv.show()\n",
    "\n",
    "    fpRays = traceFull['Detector']['out'].toCoordSys(batoid.globalCoordSys)\n",
    "    fpRays.trimVignetted()\n",
    "\n",
    "    ph = np.linspace(0, 2*np.pi, 500)\n",
    "    x, y = 0.31527*np.cos(ph), 0.31527*np.sin(ph)\n",
    "\n",
    "    fig, axes = plt.subplots(figsize=(14, 3), nrows=1, ncols=5)\n",
    "    ax1, ax2, ax3, ax4, ax5 = axes\n",
    "    \n",
    "    ax1.plot(x, y, c='b', lw=1)\n",
    "    draw2dFP(ax1, telescope['Detector'].coordSys)\n",
    "    ax1.scatter(fpRays.x, fpRays.y, c='b')\n",
    "    ax1.set_xlim(-0.4, 0.4)\n",
    "    ax1.set_ylim(-0.4, 0.4)\n",
    "    ax1.axhline(0, lw=0.5, c='k')\n",
    "    ax1.axvline(0, lw=0.5, c='k')\n",
    "    ax1.set_title(\"view from utility trunk\")\n",
    "    ax1.set_xlabel(\"<- comes from left   x   comes from right ->\")\n",
    "    ax1.set_ylabel(\"<- higher alt    y    lower alt ->\")\n",
    "    ax1.set_aspect(\"equal\")\n",
    "\n",
    "    ax2.plot(x, y, c='b', lw=1)\n",
    "    draw2dFP(ax2, telescope['Detector'].coordSys)\n",
    "    ax2.scatter(fpRays.x, fpRays.y, c='b')\n",
    "    ax2.set_xlim(0.4, -0.4)\n",
    "    ax2.set_ylim(-0.4, 0.4)\n",
    "    ax2.axhline(0, lw=0.5, c='k')\n",
    "    ax2.axvline(0, lw=0.5, c='k')\n",
    "    ax2.set_title(\"view from L3, tel aligned\")\n",
    "    ax2.set_xlabel(\"<- comes from right   x   comes from left ->\")\n",
    "    ax2.set_ylabel(\"<- higher alt    y    lower alt ->\")\n",
    "    ax2.set_aspect(\"equal\")\n",
    "    \n",
    "    fpRays2 = traceFull['Detector']['out']\n",
    "    fpRays2.trimVignetted()\n",
    "\n",
    "    ax3.plot(x, y, c='b', lw=1)\n",
    "    draw2dFP(ax3, batoid.globalCoordSys)\n",
    "    ax3.scatter(fpRays2.x, fpRays2.y, c='b')\n",
    "    ax3.set_xlim(0.4, -0.4)\n",
    "    ax3.set_ylim(-0.4, 0.4)\n",
    "    ax3.axhline(0, lw=0.5, c='k')\n",
    "    ax3.axvline(0, lw=0.5, c='k')\n",
    "    ax3.set_title(\"view from L3, cam aligned\")\n",
    "    ax3.set_aspect(\"equal\")\n",
    "    \n",
    "    ax4.scatter(-spotx, spoty, s=0.1, alpha=0.1)\n",
    "    ax4.set_xlim(-1e-5, 1e-5)\n",
    "    ax4.set_ylim(-1e-5, 1e-5)\n",
    "    ax4.xaxis.set_ticks([])\n",
    "    ax4.yaxis.set_ticks([])\n",
    "    ax4.set_title(\"view from L3, cam aligned\")\n",
    "    ax4.set_aspect(\"equal\")\n",
    "    \n",
    "    ax5.imshow(wavefront.array)\n",
    "    ax5.set_aspect(\"equal\")\n",
    "    ax5.xaxis.set_ticks([])\n",
    "    ax5.yaxis.set_ticks([])\n",
    "    ax5.set_title(\"entrance pupil aligned\")"
   ]
  },
  {
   "cell_type": "code",
   "execution_count": null,
   "metadata": {
    "ExecuteTime": {
     "end_time": "2020-01-30T00:53:28.961280Z",
     "start_time": "2020-01-30T00:53:26.719761Z"
    }
   },
   "outputs": [],
   "source": [
    "doit(1.0, 1.0, 0.0)"
   ]
  },
  {
   "cell_type": "code",
   "execution_count": null,
   "metadata": {
    "ExecuteTime": {
     "end_time": "2020-01-30T00:54:30.391702Z",
     "start_time": "2020-01-30T00:54:28.508075Z"
    }
   },
   "outputs": [],
   "source": [
    "# this is either +30 degrees rotTelPos or -30 degrees rotTelPos.  But which one!?\n",
    "doit(1.0, 1.0, 30)"
   ]
  },
  {
   "cell_type": "code",
   "execution_count": null,
   "metadata": {},
   "outputs": [],
   "source": []
  }
 ],
 "metadata": {
  "kernelspec": {
   "display_name": "Python 3",
   "language": "python",
   "name": "python3"
  },
  "language_info": {
   "codemirror_mode": {
    "name": "ipython",
    "version": 3
   },
   "file_extension": ".py",
   "mimetype": "text/x-python",
   "name": "python",
   "nbconvert_exporter": "python",
   "pygments_lexer": "ipython3",
   "version": "3.7.6"
  }
 },
 "nbformat": 4,
 "nbformat_minor": 4
}
